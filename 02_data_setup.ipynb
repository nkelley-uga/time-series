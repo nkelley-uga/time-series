{
 "cells": [
  {
   "cell_type": "code",
   "execution_count": 38,
   "metadata": {},
   "outputs": [],
   "source": [
    "import numpy as np\n",
    "import pandas as pd\n",
    "import matplotlib.pyplot as plt\n",
    "from datetime import datetime as dt\n",
    "\n",
    "from pandas.plotting import register_matplotlib_converters\n",
    "register_matplotlib_converters()\n",
    "\n",
    "from vaderSentiment.vaderSentiment import SentimentIntensityAnalyzer\n",
    "from textblob import TextBlob"
   ]
  },
  {
   "cell_type": "code",
   "execution_count": 47,
   "metadata": {},
   "outputs": [
    {
     "data": {
      "text/plain": [
       "(67528, 4)"
      ]
     },
     "execution_count": 47,
     "metadata": {},
     "output_type": "execute_result"
    }
   ],
   "source": [
    "data = pd.read_csv('wendys_tweets.csv')\n",
    "data = data.dropna(subset=['text'])\\\n",
    "            .sort_values(by='datetime')\\\n",
    "            .reset_index(drop=True)\n",
    "data.shape"
   ]
  },
  {
   "cell_type": "code",
   "execution_count": 49,
   "metadata": {},
   "outputs": [
    {
     "data": {
      "text/plain": [
       "count    67528.000000\n",
       "mean        72.700272\n",
       "std         50.853891\n",
       "min          1.000000\n",
       "25%         20.000000\n",
       "50%         85.000000\n",
       "75%        113.000000\n",
       "max        297.000000\n",
       "Name: text, dtype: float64"
      ]
     },
     "execution_count": 49,
     "metadata": {},
     "output_type": "execute_result"
    }
   ],
   "source": [
    "data['text'].str.len().describe()"
   ]
  },
  {
   "cell_type": "code",
   "execution_count": 50,
   "metadata": {},
   "outputs": [
    {
     "data": {
      "text/plain": [
       "\"Please DM us any information you have, especially the employee's contact info and the restaurant location so we can have HR get in touch. Thank you!\""
      ]
     },
     "execution_count": 50,
     "metadata": {},
     "output_type": "execute_result"
    }
   ],
   "source": [
    "test = data['text'][1]\n",
    "test"
   ]
  },
  {
   "cell_type": "code",
   "execution_count": 51,
   "metadata": {},
   "outputs": [
    {
     "data": {
      "text/html": [
       "<div>\n",
       "<style scoped>\n",
       "    .dataframe tbody tr th:only-of-type {\n",
       "        vertical-align: middle;\n",
       "    }\n",
       "\n",
       "    .dataframe tbody tr th {\n",
       "        vertical-align: top;\n",
       "    }\n",
       "\n",
       "    .dataframe thead th {\n",
       "        text-align: right;\n",
       "    }\n",
       "</style>\n",
       "<table border=\"1\" class=\"dataframe\">\n",
       "  <thead>\n",
       "    <tr style=\"text-align: right;\">\n",
       "      <th></th>\n",
       "      <th>vader_sentiment</th>\n",
       "      <th>blob_sentiment</th>\n",
       "    </tr>\n",
       "  </thead>\n",
       "  <tbody>\n",
       "    <tr>\n",
       "      <td>count</td>\n",
       "      <td>67528.000000</td>\n",
       "      <td>67528.000000</td>\n",
       "    </tr>\n",
       "    <tr>\n",
       "      <td>mean</td>\n",
       "      <td>0.254908</td>\n",
       "      <td>0.114192</td>\n",
       "    </tr>\n",
       "    <tr>\n",
       "      <td>std</td>\n",
       "      <td>0.337796</td>\n",
       "      <td>0.295593</td>\n",
       "    </tr>\n",
       "    <tr>\n",
       "      <td>min</td>\n",
       "      <td>-0.875000</td>\n",
       "      <td>-1.000000</td>\n",
       "    </tr>\n",
       "    <tr>\n",
       "      <td>25%</td>\n",
       "      <td>0.000000</td>\n",
       "      <td>0.000000</td>\n",
       "    </tr>\n",
       "    <tr>\n",
       "      <td>50%</td>\n",
       "      <td>0.318200</td>\n",
       "      <td>0.000000</td>\n",
       "    </tr>\n",
       "    <tr>\n",
       "      <td>75%</td>\n",
       "      <td>0.555000</td>\n",
       "      <td>0.275000</td>\n",
       "    </tr>\n",
       "    <tr>\n",
       "      <td>max</td>\n",
       "      <td>0.993600</td>\n",
       "      <td>1.000000</td>\n",
       "    </tr>\n",
       "  </tbody>\n",
       "</table>\n",
       "</div>"
      ],
      "text/plain": [
       "       vader_sentiment  blob_sentiment\n",
       "count     67528.000000    67528.000000\n",
       "mean          0.254908        0.114192\n",
       "std           0.337796        0.295593\n",
       "min          -0.875000       -1.000000\n",
       "25%           0.000000        0.000000\n",
       "50%           0.318200        0.000000\n",
       "75%           0.555000        0.275000\n",
       "max           0.993600        1.000000"
      ]
     },
     "execution_count": 51,
     "metadata": {},
     "output_type": "execute_result"
    }
   ],
   "source": [
    "analyzer = SentimentIntensityAnalyzer()\n",
    "\n",
    "data['vader_sentiment'] = [analyzer.polarity_scores(i)['compound']\n",
    "                           for i in data['text']]\n",
    "data['blob_sentiment'] = [TextBlob(i).sentiment.polarity\n",
    "                          for i in data['text']]\n",
    "\n",
    "data[['vader_sentiment', 'blob_sentiment']].describe()"
   ]
  },
  {
   "cell_type": "code",
   "execution_count": 52,
   "metadata": {},
   "outputs": [],
   "source": [
    "def text_cleaner(text):\n",
    "    import re\n",
    "    import string\n",
    "    from nltk.stem import WordNetLemmatizer\n",
    "    \n",
    "    text = text.lower()\n",
    "    remove = re.compile('[%s]' % re.escape(string.punctuation+string.digits))\n",
    "    text = remove.sub('', text)\n",
    "    \n",
    "    return text"
   ]
  },
  {
   "cell_type": "code",
   "execution_count": 53,
   "metadata": {},
   "outputs": [
    {
     "data": {
      "text/html": [
       "<div>\n",
       "<style scoped>\n",
       "    .dataframe tbody tr th:only-of-type {\n",
       "        vertical-align: middle;\n",
       "    }\n",
       "\n",
       "    .dataframe tbody tr th {\n",
       "        vertical-align: top;\n",
       "    }\n",
       "\n",
       "    .dataframe thead th {\n",
       "        text-align: right;\n",
       "    }\n",
       "</style>\n",
       "<table border=\"1\" class=\"dataframe\">\n",
       "  <thead>\n",
       "    <tr style=\"text-align: right;\">\n",
       "      <th></th>\n",
       "      <th>clean_vader</th>\n",
       "      <th>clean_blob</th>\n",
       "    </tr>\n",
       "  </thead>\n",
       "  <tbody>\n",
       "    <tr>\n",
       "      <td>count</td>\n",
       "      <td>67528.000000</td>\n",
       "      <td>67528.000000</td>\n",
       "    </tr>\n",
       "    <tr>\n",
       "      <td>mean</td>\n",
       "      <td>0.262811</td>\n",
       "      <td>0.112194</td>\n",
       "    </tr>\n",
       "    <tr>\n",
       "      <td>std</td>\n",
       "      <td>0.322208</td>\n",
       "      <td>0.281632</td>\n",
       "    </tr>\n",
       "    <tr>\n",
       "      <td>min</td>\n",
       "      <td>-0.875000</td>\n",
       "      <td>-1.000000</td>\n",
       "    </tr>\n",
       "    <tr>\n",
       "      <td>25%</td>\n",
       "      <td>0.000000</td>\n",
       "      <td>0.000000</td>\n",
       "    </tr>\n",
       "    <tr>\n",
       "      <td>50%</td>\n",
       "      <td>0.273200</td>\n",
       "      <td>0.000000</td>\n",
       "    </tr>\n",
       "    <tr>\n",
       "      <td>75%</td>\n",
       "      <td>0.510600</td>\n",
       "      <td>0.250000</td>\n",
       "    </tr>\n",
       "    <tr>\n",
       "      <td>max</td>\n",
       "      <td>0.993600</td>\n",
       "      <td>1.000000</td>\n",
       "    </tr>\n",
       "  </tbody>\n",
       "</table>\n",
       "</div>"
      ],
      "text/plain": [
       "        clean_vader    clean_blob\n",
       "count  67528.000000  67528.000000\n",
       "mean       0.262811      0.112194\n",
       "std        0.322208      0.281632\n",
       "min       -0.875000     -1.000000\n",
       "25%        0.000000      0.000000\n",
       "50%        0.273200      0.000000\n",
       "75%        0.510600      0.250000\n",
       "max        0.993600      1.000000"
      ]
     },
     "execution_count": 53,
     "metadata": {},
     "output_type": "execute_result"
    }
   ],
   "source": [
    "data['clean_text'] = [text_cleaner(i) for i in data['text']]\n",
    "\n",
    "data['clean_vader'] = [analyzer.polarity_scores(i)['compound']\n",
    "                           for i in data['clean_text']]\n",
    "data['clean_blob'] = [TextBlob(i).sentiment.polarity\n",
    "                          for i in data['clean_text']]\n",
    "\n",
    "data[['clean_vader', 'clean_blob']].describe()"
   ]
  },
  {
   "cell_type": "code",
   "execution_count": 54,
   "metadata": {},
   "outputs": [
    {
     "data": {
      "text/plain": [
       "(503, 6)"
      ]
     },
     "execution_count": 54,
     "metadata": {},
     "output_type": "execute_result"
    }
   ],
   "source": [
    "stock = pd.read_csv('wendys_stock.csv')\n",
    "stock = stock.drop(labels=[251], axis=0)\n",
    "stock['Date'] = pd.to_datetime(stock['Date'])\n",
    "stock.shape"
   ]
  },
  {
   "cell_type": "code",
   "execution_count": 55,
   "metadata": {},
   "outputs": [
    {
     "data": {
      "text/html": [
       "<div>\n",
       "<style scoped>\n",
       "    .dataframe tbody tr th:only-of-type {\n",
       "        vertical-align: middle;\n",
       "    }\n",
       "\n",
       "    .dataframe tbody tr th {\n",
       "        vertical-align: top;\n",
       "    }\n",
       "\n",
       "    .dataframe thead th {\n",
       "        text-align: right;\n",
       "    }\n",
       "</style>\n",
       "<table border=\"1\" class=\"dataframe\">\n",
       "  <thead>\n",
       "    <tr style=\"text-align: right;\">\n",
       "      <th></th>\n",
       "      <th>Date</th>\n",
       "      <th>Close/Last</th>\n",
       "      <th>Volume</th>\n",
       "      <th>Open</th>\n",
       "      <th>High</th>\n",
       "      <th>Low</th>\n",
       "    </tr>\n",
       "  </thead>\n",
       "  <tbody>\n",
       "    <tr>\n",
       "      <td>0</td>\n",
       "      <td>2018-01-02</td>\n",
       "      <td>$16.32</td>\n",
       "      <td>2076575</td>\n",
       "      <td>$16.41</td>\n",
       "      <td>$16.50</td>\n",
       "      <td>$16.24</td>\n",
       "    </tr>\n",
       "    <tr>\n",
       "      <td>1</td>\n",
       "      <td>2018-01-03</td>\n",
       "      <td>$16.70</td>\n",
       "      <td>3074085</td>\n",
       "      <td>$16.91</td>\n",
       "      <td>$16.91</td>\n",
       "      <td>$16.36</td>\n",
       "    </tr>\n",
       "    <tr>\n",
       "      <td>2</td>\n",
       "      <td>2018-01-04</td>\n",
       "      <td>$16.51</td>\n",
       "      <td>2552011</td>\n",
       "      <td>$16.75</td>\n",
       "      <td>$16.85</td>\n",
       "      <td>$16.24</td>\n",
       "    </tr>\n",
       "    <tr>\n",
       "      <td>3</td>\n",
       "      <td>2018-01-05</td>\n",
       "      <td>$16.79</td>\n",
       "      <td>3277766</td>\n",
       "      <td>$16.68</td>\n",
       "      <td>$16.84</td>\n",
       "      <td>$16.62</td>\n",
       "    </tr>\n",
       "    <tr>\n",
       "      <td>4</td>\n",
       "      <td>2018-01-08</td>\n",
       "      <td>$16.62</td>\n",
       "      <td>1915344</td>\n",
       "      <td>$16.73</td>\n",
       "      <td>$16.73</td>\n",
       "      <td>$16.38</td>\n",
       "    </tr>\n",
       "  </tbody>\n",
       "</table>\n",
       "</div>"
      ],
      "text/plain": [
       "        Date  Close/Last   Volume     Open     High      Low\n",
       "0 2018-01-02     $16.32   2076575  $16.41   $16.50   $16.24 \n",
       "1 2018-01-03     $16.70   3074085  $16.91   $16.91   $16.36 \n",
       "2 2018-01-04     $16.51   2552011  $16.75   $16.85   $16.24 \n",
       "3 2018-01-05     $16.79   3277766  $16.68   $16.84   $16.62 \n",
       "4 2018-01-08     $16.62   1915344  $16.73   $16.73   $16.38 "
      ]
     },
     "execution_count": 55,
     "metadata": {},
     "output_type": "execute_result"
    }
   ],
   "source": [
    "stock.head()"
   ]
  },
  {
   "cell_type": "code",
   "execution_count": 56,
   "metadata": {},
   "outputs": [],
   "source": [
    "data['day'] = [i.split(' ')[0] for i in data['datetime']]\n",
    "data['day'] = pd.to_datetime(data['day'])\n",
    "\n",
    "full_data = pd.merge(data,\n",
    "                     stock,\n",
    "                     how='left',\n",
    "                     left_on='day',\n",
    "                     right_on='Date')\n",
    "\n",
    "full_data.columns = [i.strip().lower() for i in full_data.columns]"
   ]
  },
  {
   "cell_type": "code",
   "execution_count": 57,
   "metadata": {},
   "outputs": [],
   "source": [
    "full_data['close/last'] = full_data['close/last'].str.strip()\\\n",
    "                                                 .str.replace('$', '')"
   ]
  },
  {
   "cell_type": "code",
   "execution_count": 58,
   "metadata": {},
   "outputs": [
    {
     "name": "stderr",
     "output_type": "stream",
     "text": [
      "/Library/Frameworks/Python.framework/Versions/3.7/lib/python3.7/site-packages/pandas/core/indexing.py:205: SettingWithCopyWarning: \n",
      "A value is trying to be set on a copy of a slice from a DataFrame\n",
      "\n",
      "See the caveats in the documentation: http://pandas.pydata.org/pandas-docs/stable/user_guide/indexing.html#returning-a-view-versus-a-copy\n",
      "  self._setitem_with_indexer(indexer, value)\n"
     ]
    }
   ],
   "source": [
    "full_data['close/last'].iloc[0] = 16.42\n",
    "full_data['close/last'] = full_data['close/last'].astype(float).fillna(method='ffill')"
   ]
  },
  {
   "cell_type": "code",
   "execution_count": 59,
   "metadata": {},
   "outputs": [
    {
     "data": {
      "text/html": [
       "<div>\n",
       "<style scoped>\n",
       "    .dataframe tbody tr th:only-of-type {\n",
       "        vertical-align: middle;\n",
       "    }\n",
       "\n",
       "    .dataframe tbody tr th {\n",
       "        vertical-align: top;\n",
       "    }\n",
       "\n",
       "    .dataframe thead th {\n",
       "        text-align: right;\n",
       "    }\n",
       "</style>\n",
       "<table border=\"1\" class=\"dataframe\">\n",
       "  <thead>\n",
       "    <tr style=\"text-align: right;\">\n",
       "      <th></th>\n",
       "      <th>datetime</th>\n",
       "      <th>text</th>\n",
       "      <th>favorites</th>\n",
       "      <th>retweets</th>\n",
       "      <th>vader_sentiment</th>\n",
       "      <th>blob_sentiment</th>\n",
       "      <th>clean_text</th>\n",
       "      <th>clean_vader</th>\n",
       "      <th>clean_blob</th>\n",
       "      <th>day</th>\n",
       "      <th>date</th>\n",
       "      <th>close/last</th>\n",
       "      <th>volume</th>\n",
       "      <th>open</th>\n",
       "      <th>high</th>\n",
       "      <th>low</th>\n",
       "    </tr>\n",
       "  </thead>\n",
       "  <tbody>\n",
       "    <tr>\n",
       "      <td>0</td>\n",
       "      <td>2018-01-01 18:49:44+00:00</td>\n",
       "      <td>Please DM us the location , date and time of y...</td>\n",
       "      <td>0</td>\n",
       "      <td>1</td>\n",
       "      <td>0.6670</td>\n",
       "      <td>0.000000</td>\n",
       "      <td>please dm us the location  date and time of yo...</td>\n",
       "      <td>0.6340</td>\n",
       "      <td>0.000000</td>\n",
       "      <td>2018-01-01</td>\n",
       "      <td>NaT</td>\n",
       "      <td>16.42</td>\n",
       "      <td>NaN</td>\n",
       "      <td>NaN</td>\n",
       "      <td>NaN</td>\n",
       "      <td>NaN</td>\n",
       "    </tr>\n",
       "    <tr>\n",
       "      <td>1</td>\n",
       "      <td>2018-01-01 18:52:31+00:00</td>\n",
       "      <td>Please DM us any information you have, especia...</td>\n",
       "      <td>1</td>\n",
       "      <td>1</td>\n",
       "      <td>0.6239</td>\n",
       "      <td>0.000000</td>\n",
       "      <td>please dm us any information you have especial...</td>\n",
       "      <td>0.5859</td>\n",
       "      <td>0.000000</td>\n",
       "      <td>2018-01-01</td>\n",
       "      <td>NaT</td>\n",
       "      <td>16.42</td>\n",
       "      <td>NaN</td>\n",
       "      <td>NaN</td>\n",
       "      <td>NaN</td>\n",
       "      <td>NaN</td>\n",
       "    </tr>\n",
       "    <tr>\n",
       "      <td>2</td>\n",
       "      <td>2018-01-01 23:09:57+00:00</td>\n",
       "      <td>Oh no! Please DM us the restaurant location an...</td>\n",
       "      <td>0</td>\n",
       "      <td>1</td>\n",
       "      <td>0.4912</td>\n",
       "      <td>0.357143</td>\n",
       "      <td>oh no please dm us the restaurant location and...</td>\n",
       "      <td>0.3818</td>\n",
       "      <td>0.285714</td>\n",
       "      <td>2018-01-01</td>\n",
       "      <td>NaT</td>\n",
       "      <td>16.42</td>\n",
       "      <td>NaN</td>\n",
       "      <td>NaN</td>\n",
       "      <td>NaN</td>\n",
       "      <td>NaN</td>\n",
       "    </tr>\n",
       "    <tr>\n",
       "      <td>3</td>\n",
       "      <td>2018-01-01 23:12:34+00:00</td>\n",
       "      <td>We will send out a case for you so management ...</td>\n",
       "      <td>0</td>\n",
       "      <td>1</td>\n",
       "      <td>0.8297</td>\n",
       "      <td>0.312500</td>\n",
       "      <td>we will send out a case for you so management ...</td>\n",
       "      <td>0.8158</td>\n",
       "      <td>0.250000</td>\n",
       "      <td>2018-01-01</td>\n",
       "      <td>NaT</td>\n",
       "      <td>16.42</td>\n",
       "      <td>NaN</td>\n",
       "      <td>NaN</td>\n",
       "      <td>NaN</td>\n",
       "      <td>NaN</td>\n",
       "    </tr>\n",
       "    <tr>\n",
       "      <td>4</td>\n",
       "      <td>2018-01-02 02:46:40+00:00</td>\n",
       "      <td>We're disappointed to hear this. Shoot us over...</td>\n",
       "      <td>0</td>\n",
       "      <td>1</td>\n",
       "      <td>-0.5187</td>\n",
       "      <td>-0.750000</td>\n",
       "      <td>were disappointed to hear this shoot us over a...</td>\n",
       "      <td>-0.5187</td>\n",
       "      <td>-0.750000</td>\n",
       "      <td>2018-01-02</td>\n",
       "      <td>2018-01-02</td>\n",
       "      <td>16.32</td>\n",
       "      <td>2076575</td>\n",
       "      <td>$16.41</td>\n",
       "      <td>$16.50</td>\n",
       "      <td>$16.24</td>\n",
       "    </tr>\n",
       "  </tbody>\n",
       "</table>\n",
       "</div>"
      ],
      "text/plain": [
       "                    datetime  \\\n",
       "0  2018-01-01 18:49:44+00:00   \n",
       "1  2018-01-01 18:52:31+00:00   \n",
       "2  2018-01-01 23:09:57+00:00   \n",
       "3  2018-01-01 23:12:34+00:00   \n",
       "4  2018-01-02 02:46:40+00:00   \n",
       "\n",
       "                                                text  favorites  retweets  \\\n",
       "0  Please DM us the location , date and time of y...          0         1   \n",
       "1  Please DM us any information you have, especia...          1         1   \n",
       "2  Oh no! Please DM us the restaurant location an...          0         1   \n",
       "3  We will send out a case for you so management ...          0         1   \n",
       "4  We're disappointed to hear this. Shoot us over...          0         1   \n",
       "\n",
       "   vader_sentiment  blob_sentiment  \\\n",
       "0           0.6670        0.000000   \n",
       "1           0.6239        0.000000   \n",
       "2           0.4912        0.357143   \n",
       "3           0.8297        0.312500   \n",
       "4          -0.5187       -0.750000   \n",
       "\n",
       "                                          clean_text  clean_vader  clean_blob  \\\n",
       "0  please dm us the location  date and time of yo...       0.6340    0.000000   \n",
       "1  please dm us any information you have especial...       0.5859    0.000000   \n",
       "2  oh no please dm us the restaurant location and...       0.3818    0.285714   \n",
       "3  we will send out a case for you so management ...       0.8158    0.250000   \n",
       "4  were disappointed to hear this shoot us over a...      -0.5187   -0.750000   \n",
       "\n",
       "         day       date  close/last   volume     open     high      low  \n",
       "0 2018-01-01        NaT       16.42      NaN      NaN      NaN      NaN  \n",
       "1 2018-01-01        NaT       16.42      NaN      NaN      NaN      NaN  \n",
       "2 2018-01-01        NaT       16.42      NaN      NaN      NaN      NaN  \n",
       "3 2018-01-01        NaT       16.42      NaN      NaN      NaN      NaN  \n",
       "4 2018-01-02 2018-01-02       16.32  2076575  $16.41   $16.50   $16.24   "
      ]
     },
     "execution_count": 59,
     "metadata": {},
     "output_type": "execute_result"
    }
   ],
   "source": [
    "full_data.head()"
   ]
  },
  {
   "cell_type": "code",
   "execution_count": 60,
   "metadata": {},
   "outputs": [],
   "source": [
    "full_data.to_csv('full_corporate.csv')"
   ]
  },
  {
   "cell_type": "code",
   "execution_count": null,
   "metadata": {},
   "outputs": [],
   "source": []
  }
 ],
 "metadata": {
  "kernelspec": {
   "display_name": "Python 3",
   "language": "python",
   "name": "python3"
  },
  "language_info": {
   "codemirror_mode": {
    "name": "ipython",
    "version": 3
   },
   "file_extension": ".py",
   "mimetype": "text/x-python",
   "name": "python",
   "nbconvert_exporter": "python",
   "pygments_lexer": "ipython3",
   "version": "3.7.3"
  }
 },
 "nbformat": 4,
 "nbformat_minor": 4
}
